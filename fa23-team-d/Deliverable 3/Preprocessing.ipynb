{
 "cells": [
  {
   "cell_type": "markdown",
   "id": "f7fc1ebc-f691-4cbf-a324-bbd18e6826ea",
   "metadata": {},
   "source": [
    "# Pre-processing for Deliverable 3"
   ]
  },
  {
   "cell_type": "markdown",
   "id": "c2d01dea-aa75-4bc6-ba96-33413f103584",
   "metadata": {},
   "source": [
    "## Pre-processing the new AQI data"
   ]
  },
  {
   "cell_type": "code",
   "execution_count": 66,
   "id": "8f59a99b-567b-4a19-b658-303260bad83f",
   "metadata": {},
   "outputs": [],
   "source": [
    "import pandas as pd\n",
    "import numpy as np"
   ]
  },
  {
   "cell_type": "code",
   "execution_count": 67,
   "id": "f0ed54b2-5fc2-42ee-b457-e63dee6f7094",
   "metadata": {},
   "outputs": [],
   "source": [
    "def calculate_daily_mean(minimum, maximum, q1, q3, median, count):\n",
    "    n = count\n",
    "    mean = (2.2 / (2.2 + n ** 0.75)) * ((minimum + maximum) / 2) + \\\n",
    "           (0.7 - (0.72 / n ** 0.55)) * ((q1 + q3) / 2) + \\\n",
    "           (0.3 + (0.72 / n ** 0.55) - (2.2 / (2.2 + n ** 0.75))) * median\n",
    "    return mean"
   ]
  },
  {
   "cell_type": "code",
   "execution_count": 68,
   "id": "8af1409b-f78a-40df-9cc6-c0d24febc28c",
   "metadata": {},
   "outputs": [],
   "source": [
    "file_path = '../aqi_data/'\n",
    "\n",
    "# List of all the files uploaded\n",
    "file_names = ['02111.csv', '02118.csv', '02124.csv', '02127.csv', '02128.csv', '02130.csv', '02135.csv', '02139.csv']"
   ]
  },
  {
   "cell_type": "code",
   "execution_count": 69,
   "id": "44ce9444-61cd-4699-bca1-3d028c5b9dd0",
   "metadata": {},
   "outputs": [],
   "source": [
    "# Create an empty DataFrame to store results\n",
    "results_df = pd.DataFrame(columns=['ZipCode', 'MeanAQI', 'AvgMaxAQI'])"
   ]
  },
  {
   "cell_type": "code",
   "execution_count": 71,
   "id": "a0fd2c4b-6f9f-4d7a-bb94-35a9f9338cb5",
   "metadata": {},
   "outputs": [],
   "source": [
    "for file_name in file_names:\n",
    "    # Read the CSV file\n",
    "    df = pd.read_csv(file_path + file_name)\n",
    "\n",
    "    # Optional: Extract year from 'date' column if it exists\n",
    "    # df['Year'] = pd.to_datetime(df['date']).dt.year\n",
    "\n",
    "    # Extract zipcode from file name\n",
    "    zipcode = file_name.split('.')[0]\n",
    "\n",
    "    # Calculate the daily mean for each row\n",
    "    df['Daily_Mean'] = df.apply(lambda x: calculate_daily_mean(x['min'], x['max'], x['q1'], x['q3'], x['median'], x['count']), axis=1)\n",
    "\n",
    "    # Calculate the mean and average max AQI\n",
    "    mean_aqi = df['Daily_Mean'].mean()\n",
    "    avg_max_aqi = df['max'].mean()  # Modify as needed based on your data structure\n",
    "\n",
    "    # Create a DataFrame for the current results and concatenate it with the main DataFrame\n",
    "    current_results = pd.DataFrame({'ZipCode': [zipcode], 'MeanAQI': [mean_aqi], 'AvgMaxAQI': [avg_max_aqi]})\n",
    "    results_df = pd.concat([results_df, current_results], ignore_index=True)"
   ]
  },
  {
   "cell_type": "code",
   "execution_count": 72,
   "id": "97f38d48-bce9-4f14-ae8b-5eb2a9fe3900",
   "metadata": {},
   "outputs": [
    {
     "name": "stdout",
     "output_type": "stream",
     "text": [
      "  ZipCode   MeanAQI  AvgMaxAQI\n",
      "0   02111  8.101017  37.325602\n",
      "1   02118  9.796988  46.486448\n",
      "2   02124  8.121950  22.361693\n",
      "3   02127  9.149951  23.585692\n",
      "4   02128  8.355616  22.265957\n"
     ]
    }
   ],
   "source": [
    "print(results_df.head())"
   ]
  },
  {
   "cell_type": "code",
   "execution_count": 73,
   "id": "71282672-0aca-49c8-b893-5b167a4307a7",
   "metadata": {},
   "outputs": [
    {
     "data": {
      "text/plain": [
       "Index(['ZipCode', 'MeanAQI', 'AvgMaxAQI'], dtype='object')"
      ]
     },
     "execution_count": 73,
     "metadata": {},
     "output_type": "execute_result"
    }
   ],
   "source": [
    "results_df.columns"
   ]
  },
  {
   "cell_type": "code",
   "execution_count": 74,
   "id": "b99468ae-e9b7-48d8-a422-a36755ca5ced",
   "metadata": {},
   "outputs": [
    {
     "data": {
      "text/plain": [
       "array(['02111', '02118', '02124', '02127', '02128', '02130', '02135',\n",
       "       '02139'], dtype=object)"
      ]
     },
     "execution_count": 74,
     "metadata": {},
     "output_type": "execute_result"
    }
   ],
   "source": [
    "results_df['ZipCode'].unique()"
   ]
  },
  {
   "cell_type": "code",
   "execution_count": 75,
   "id": "a0cd8ed9-3c62-4ab3-bcb1-f4a88db7dcb8",
   "metadata": {},
   "outputs": [],
   "source": [
    "results_df.to_csv('../2022AQIdata.csv', index=False)"
   ]
  },
  {
   "cell_type": "markdown",
   "id": "fd92d417-efd4-4063-afc9-8631648c8aee",
   "metadata": {},
   "source": [
    "## Pre-processing CDC health data"
   ]
  },
  {
   "cell_type": "code",
   "execution_count": 76,
   "id": "16b66b61-9c44-47bb-a6a1-2a4cd3a8a313",
   "metadata": {},
   "outputs": [],
   "source": [
    "df = pd.read_csv('../cdc_data/Boston_CDCdata_Zipcode_2022.csv')"
   ]
  },
  {
   "cell_type": "code",
   "execution_count": 77,
   "id": "948a1293-626a-4294-b5f5-32a21f1f51c6",
   "metadata": {},
   "outputs": [
    {
     "data": {
      "text/plain": [
       "Index(['ZCTA5', 'TotalPopulation', 'ACCESS2_CrudePrev', 'ACCESS2_Crude95CI',\n",
       "       'ARTHRITIS_CrudePrev', 'ARTHRITIS_Crude95CI', 'BINGE_CrudePrev',\n",
       "       'BINGE_Crude95CI', 'BPHIGH_CrudePrev', 'BPHIGH_Crude95CI',\n",
       "       'BPMED_CrudePrev', 'BPMED_Crude95CI', 'CANCER_CrudePrev',\n",
       "       'CANCER_Crude95CI', 'CASTHMA_CrudePrev', 'CASTHMA_Crude95CI',\n",
       "       'CERVICAL_CrudePrev', 'CERVICAL_Crude95CI', 'CHD_CrudePrev',\n",
       "       'CHD_Crude95CI', 'CHECKUP_CrudePrev', 'CHECKUP_Crude95CI',\n",
       "       'CHOLSCREEN_CrudePrev', 'CHOLSCREEN_Crude95CI',\n",
       "       'COLON_SCREEN_CrudePrev', 'COLON_SCREEN_Crude95CI', 'COPD_CrudePrev',\n",
       "       'COPD_Crude95CI', 'COREM_CrudePrev', 'COREM_Crude95CI',\n",
       "       'COREW_CrudePrev', 'COREW_Crude95CI', 'CSMOKING_CrudePrev',\n",
       "       'CSMOKING_Crude95CI', 'DENTAL_CrudePrev', 'DENTAL_Crude95CI',\n",
       "       'DEPRESSION_CrudePrev', 'DEPRESSION_Crude95CI', 'DIABETES_CrudePrev',\n",
       "       'DIABETES_Crude95CI', 'GHLTH_CrudePrev', 'GHLTH_Crude95CI',\n",
       "       'HIGHCHOL_CrudePrev', 'HIGHCHOL_Crude95CI', 'KIDNEY_CrudePrev',\n",
       "       'KIDNEY_Crude95CI', 'LPA_CrudePrev', 'LPA_Crude95CI',\n",
       "       'MAMMOUSE_CrudePrev', 'MAMMOUSE_Crude95CI', 'MHLTH_CrudePrev',\n",
       "       'MHLTH_Crude95CI', 'OBESITY_CrudePrev', 'OBESITY_Crude95CI',\n",
       "       'PHLTH_CrudePrev', 'PHLTH_Crude95CI', 'SLEEP_CrudePrev',\n",
       "       'SLEEP_Crude95CI', 'STROKE_CrudePrev', 'STROKE_Crude95CI',\n",
       "       'TEETHLOST_CrudePrev', 'TEETHLOST_Crude95CI', 'Geolocation'],\n",
       "      dtype='object')"
      ]
     },
     "execution_count": 77,
     "metadata": {},
     "output_type": "execute_result"
    }
   ],
   "source": [
    "df.columns"
   ]
  },
  {
   "cell_type": "code",
   "execution_count": 78,
   "id": "1615965b-a7c7-49f9-8dab-4d74ed85d0d1",
   "metadata": {},
   "outputs": [],
   "source": [
    "# We are not interested in the confidence interval for each measure, so we will drop the columns that relate to that\n",
    "\n",
    "df = df.loc[:, ~df.columns.str.endswith('CI')]"
   ]
  },
  {
   "cell_type": "code",
   "execution_count": 79,
   "id": "6d8476a2-f1e6-4d52-9027-aea52721aeea",
   "metadata": {},
   "outputs": [
    {
     "data": {
      "text/plain": [
       "Index(['ZCTA5', 'TotalPopulation', 'ACCESS2_CrudePrev', 'ARTHRITIS_CrudePrev',\n",
       "       'BINGE_CrudePrev', 'BPHIGH_CrudePrev', 'BPMED_CrudePrev',\n",
       "       'CANCER_CrudePrev', 'CASTHMA_CrudePrev', 'CERVICAL_CrudePrev',\n",
       "       'CHD_CrudePrev', 'CHECKUP_CrudePrev', 'CHOLSCREEN_CrudePrev',\n",
       "       'COLON_SCREEN_CrudePrev', 'COPD_CrudePrev', 'COREM_CrudePrev',\n",
       "       'COREW_CrudePrev', 'CSMOKING_CrudePrev', 'DENTAL_CrudePrev',\n",
       "       'DEPRESSION_CrudePrev', 'DIABETES_CrudePrev', 'GHLTH_CrudePrev',\n",
       "       'HIGHCHOL_CrudePrev', 'KIDNEY_CrudePrev', 'LPA_CrudePrev',\n",
       "       'MAMMOUSE_CrudePrev', 'MHLTH_CrudePrev', 'OBESITY_CrudePrev',\n",
       "       'PHLTH_CrudePrev', 'SLEEP_CrudePrev', 'STROKE_CrudePrev',\n",
       "       'TEETHLOST_CrudePrev', 'Geolocation'],\n",
       "      dtype='object')"
      ]
     },
     "execution_count": 79,
     "metadata": {},
     "output_type": "execute_result"
    }
   ],
   "source": [
    "df.columns"
   ]
  },
  {
   "cell_type": "code",
   "execution_count": 80,
   "id": "a2fcd30d-aee6-4025-b743-fd202fe95c21",
   "metadata": {},
   "outputs": [],
   "source": [
    "df.rename(columns={'ZCTA5': 'zip_code'}, inplace=True)"
   ]
  },
  {
   "cell_type": "code",
   "execution_count": 81,
   "id": "fabfc5d5-e7e5-4926-b976-dc136fcfabf8",
   "metadata": {},
   "outputs": [],
   "source": [
    "# Remove completely irrelevant columns\n",
    "\n",
    "columns_to_remove = ['COREM_CrudePrev', 'COREW_CrudePrev']\n",
    "df.drop(columns=columns_to_remove, inplace=True)\n",
    "\n"
   ]
  },
  {
   "cell_type": "code",
   "execution_count": 82,
   "id": "616ae628-fbca-4c09-b97d-e23f02ca3784",
   "metadata": {},
   "outputs": [],
   "source": [
    "columns_to_remove = ['Geolocation']\n",
    "df.drop(columns=columns_to_remove, inplace=True)"
   ]
  },
  {
   "cell_type": "code",
   "execution_count": 83,
   "id": "c6b17563-7f1e-4ad5-a9e4-dea1aeaf7705",
   "metadata": {},
   "outputs": [],
   "source": [
    "df.to_csv('../BostonFilteredCDCdata.csv', index=False)"
   ]
  },
  {
   "cell_type": "markdown",
   "id": "036aefcb-b658-4743-9e13-eb22aa5de86d",
   "metadata": {},
   "source": [
    "## Merging the two datasets"
   ]
  },
  {
   "cell_type": "code",
   "execution_count": 84,
   "id": "cf9bffe6-990d-4ed1-a7b7-cefc0a408b1d",
   "metadata": {},
   "outputs": [],
   "source": [
    "aqi_data = pd.read_csv('../2022AQIdata.csv')\n",
    "cdc_data = pd.read_csv('../BostonFilteredCDCdata.csv')"
   ]
  },
  {
   "cell_type": "code",
   "execution_count": 85,
   "id": "52f68541-ddc4-4749-a2cb-7292cf02683b",
   "metadata": {},
   "outputs": [],
   "source": [
    "cdc_data = cdc_data.rename(columns={'zip_code': 'ZipCode'})"
   ]
  },
  {
   "cell_type": "code",
   "execution_count": 86,
   "id": "523ad54c-d7c5-4ec8-a68d-ce5508d48bce",
   "metadata": {},
   "outputs": [],
   "source": [
    "aqi_data['ZipCode'] = aqi_data['ZipCode'].astype(int)\n",
    "cdc_data['ZipCode'] = cdc_data['ZipCode'].astype(int)"
   ]
  },
  {
   "cell_type": "code",
   "execution_count": 87,
   "id": "11352f3c-a151-4cd5-8d55-df38d5586bfb",
   "metadata": {},
   "outputs": [],
   "source": [
    "merged_data = pd.merge(aqi_data, cdc_data, on='ZipCode', how='outer')"
   ]
  },
  {
   "cell_type": "code",
   "execution_count": 88,
   "id": "74e03733-7ee7-4681-bb76-b7376ed2c614",
   "metadata": {},
   "outputs": [],
   "source": [
    "# List of zip codes to be removed\n",
    "zip_codes_to_remove = [2109, 2113, 2119, 2132, 2163, 2215]\n",
    "\n",
    "# Remove rows with the specified zip codes\n",
    "merged_data_filtered = merged_data[~merged_data['ZipCode'].isin(zip_codes_to_remove)]\n"
   ]
  },
  {
   "cell_type": "code",
   "execution_count": 89,
   "id": "61365fc6-e64f-4517-8501-019279f372ec",
   "metadata": {},
   "outputs": [],
   "source": [
    "merged_data.to_csv('../BostonCDCAQI.csv', index=False)"
   ]
  }
 ],
 "metadata": {
  "kernelspec": {
   "display_name": "Python 3 (ipykernel)",
   "language": "python",
   "name": "python3"
  },
  "language_info": {
   "codemirror_mode": {
    "name": "ipython",
    "version": 3
   },
   "file_extension": ".py",
   "mimetype": "text/x-python",
   "name": "python",
   "nbconvert_exporter": "python",
   "pygments_lexer": "ipython3",
   "version": "3.8.0"
  }
 },
 "nbformat": 4,
 "nbformat_minor": 5
}
