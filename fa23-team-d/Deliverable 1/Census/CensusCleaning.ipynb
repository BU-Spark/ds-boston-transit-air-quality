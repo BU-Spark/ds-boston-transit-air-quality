{
 "cells": [
  {
   "cell_type": "code",
   "execution_count": 51,
   "id": "b18be9f6-922d-4c12-8391-7fc61d4e1423",
   "metadata": {},
   "outputs": [],
   "source": [
    "import pandas as pd"
   ]
  },
  {
   "cell_type": "code",
   "execution_count": 52,
   "id": "ae3b76d6-cc6f-4036-8c77-1d7b67adde3e",
   "metadata": {},
   "outputs": [],
   "source": [
    "df02 = pd.read_csv('DP02_2021.csv')"
   ]
  },
  {
   "cell_type": "code",
   "execution_count": 53,
   "id": "ee3c6f48-5cf3-491c-931b-6b86ef690979",
   "metadata": {},
   "outputs": [],
   "source": [
    "df02.columns = df02.iloc[0] #treat first row as columns\n",
    "df02 = df02.drop(0)\n",
    "df02 = df02.reset_index(drop=True)"
   ]
  },
  {
   "cell_type": "code",
   "execution_count": 54,
   "id": "dcb905f7-bbbd-4a7c-809a-48edbf642342",
   "metadata": {},
   "outputs": [],
   "source": [
    "columns = [\n",
    "    \"Geographic Area Name\",\n",
    "    \"Estimate!!PLACE OF BIRTH!!Total population\",\n",
    "    \"Estimate!!HOUSEHOLDS BY TYPE!!Total households!!Average household size\",\n",
    "    \"Percent!!PLACE OF BIRTH!!Total population!!Foreign born\",\n",
    "    \"Percent!!LANGUAGE SPOKEN AT HOME!!Population 5 years and over!!Language other than English\",\n",
    "    \"Percent!!LANGUAGE SPOKEN AT HOME!!Population 5 years and over!!Spanish\",\n",
    "    \"Percent!!LANGUAGE SPOKEN AT HOME!!Population 5 years and over!!Other Indo-European languages\",\n",
    "    \"Percent!!LANGUAGE SPOKEN AT HOME!!Population 5 years and over!!Asian and Pacific Islander languages\",\n",
    "    \"Percent!!LANGUAGE SPOKEN AT HOME!!Population 5 years and over!!Other languages\",\n",
    "    \"Percent!!EDUCATIONAL ATTAINMENT!!Population 25 years and over!!Bachelor's degree\",\n",
    "    \"Percent!!ANCESTRY!!Total population!!American\",\n",
    "    \"Percent!!ANCESTRY!!Total population!!Arab\",\n",
    "    \"Percent!!ANCESTRY!!Total population!!Dutch\",\n",
    "    \"Percent!!ANCESTRY!!Total population!!English\",\n",
    "    \"Percent!!ANCESTRY!!Total population!!French (except Basque)\",\n",
    "    \"Percent!!ANCESTRY!!Total population!!German\",\n",
    "    \"Percent!!ANCESTRY!!Total population!!Irish\",\n",
    "    \"Percent!!ANCESTRY!!Total population!!Italian\",\n",
    "    \"Percent!!ANCESTRY!!Total population!!Subsaharan African\",\n",
    "    \"Percent!!ANCESTRY!!Total population!!West Indian (excluding Hispanic origin groups)\"\n",
    "]"
   ]
  },
  {
   "cell_type": "code",
   "execution_count": 55,
   "id": "477a812b-2bc6-4821-af2c-5338a930c971",
   "metadata": {},
   "outputs": [],
   "source": [
    "new_df02 = df02[columns]"
   ]
  },
  {
   "cell_type": "code",
   "execution_count": 56,
   "id": "e8130af4-1f7e-4762-a69d-8ab930a47a02",
   "metadata": {},
   "outputs": [
    {
     "data": {
      "text/plain": [
       "Index(['Geographic Area Name', 'Estimate!!PLACE OF BIRTH!!Total population',\n",
       "       'Estimate!!HOUSEHOLDS BY TYPE!!Total households!!Average household size',\n",
       "       'Percent!!PLACE OF BIRTH!!Total population!!Foreign born',\n",
       "       'Percent!!LANGUAGE SPOKEN AT HOME!!Population 5 years and over!!Language other than English',\n",
       "       'Percent!!LANGUAGE SPOKEN AT HOME!!Population 5 years and over!!Spanish',\n",
       "       'Percent!!LANGUAGE SPOKEN AT HOME!!Population 5 years and over!!Other Indo-European languages',\n",
       "       'Percent!!LANGUAGE SPOKEN AT HOME!!Population 5 years and over!!Asian and Pacific Islander languages',\n",
       "       'Percent!!LANGUAGE SPOKEN AT HOME!!Population 5 years and over!!Other languages',\n",
       "       'Percent!!EDUCATIONAL ATTAINMENT!!Population 25 years and over!!Bachelor's degree',\n",
       "       'Percent!!ANCESTRY!!Total population!!American',\n",
       "       'Percent!!ANCESTRY!!Total population!!Arab',\n",
       "       'Percent!!ANCESTRY!!Total population!!Dutch',\n",
       "       'Percent!!ANCESTRY!!Total population!!English',\n",
       "       'Percent!!ANCESTRY!!Total population!!French (except Basque)',\n",
       "       'Percent!!ANCESTRY!!Total population!!German',\n",
       "       'Percent!!ANCESTRY!!Total population!!Irish',\n",
       "       'Percent!!ANCESTRY!!Total population!!Italian',\n",
       "       'Percent!!ANCESTRY!!Total population!!Subsaharan African',\n",
       "       'Percent!!ANCESTRY!!Total population!!West Indian (excluding Hispanic origin groups)'],\n",
       "      dtype='object', name=0)"
      ]
     },
     "execution_count": 56,
     "metadata": {},
     "output_type": "execute_result"
    }
   ],
   "source": [
    "new_df02.columns"
   ]
  },
  {
   "cell_type": "code",
   "execution_count": 57,
   "id": "44d42122-8fa2-45bb-9395-c670dbcba60c",
   "metadata": {},
   "outputs": [],
   "source": [
    "new_names = {\n",
    "    \"Geographic Area Name\": \"Zip code\",\n",
    "    \"Estimate!!PLACE OF BIRTH!!Total population\": \"Total population\",\n",
    "    \"Estimate!!HOUSEHOLDS BY TYPE!!Total households!!Average household size\": \"Average Household Size\",\n",
    "    \"Percent!!PLACE OF BIRTH!!Total population!!Foreign born\": \"Percentage of Foreign Born Residents\",\n",
    "    \"Percent!!LANGUAGE SPOKEN AT HOME!!Population 5 years and over!!Language other than English\": \"Percentage of Non-English Speakers\",\n",
    "    \"Percent!!LANGUAGE SPOKEN AT HOME!!Population 5 years and over!!Spanish\": \"Percentage of population aged 5 years and over who speak Spanish at home\",\n",
    "    \"Percent!!LANGUAGE SPOKEN AT HOME!!Population 5 years and over!!Other Indo-European languages\": \"Percentage of population aged 5 years and over who speak an Indo-european other than Spanish at home\",\n",
    "    \"Percent!!LANGUAGE SPOKEN AT HOME!!Population 5 years and over!!Asian and Pacific Islander languages\": \"Percentage of population aged 5 years and over who speak an Asian and Pacific Islander language\",\n",
    "    \"Percent!!LANGUAGE SPOKEN AT HOME!!Population 5 years and over!!Other languages\": \"Percentage of population aged 5 years and over who speak other language at home\",\n",
    "    \"Percent Margin of Error!!EDUCATIONAL ATTAINMENT!!Population 25 years and over!!Bachelor's degree\": \"Percentage of population with a bachelor's degree\",\n",
    "    \"Percent!!ANCESTRY!!Total population!!American\": \"Percentage of population with American ancestry\",\n",
    "    \"Percent!!ANCESTRY!!Total population!!Arab\": \"Percentage of population with Arab ancestry\",\n",
    "    \"Percent!!ANCESTRY!!Total population!!Dutch\": \"Percentage of population with Dutch ancestry\",\n",
    "    \"Percent!!ANCESTRY!!Total population!!English\": \"Percentage of population with English ancestry\",\n",
    "    \"Percent!!ANCESTRY!!Total population!!French (except Basque)\": \"Percentage of population with French ancestry\",\n",
    "    \"Percent!!ANCESTRY!!Total population!!German\": \"Percentage of population with German ancestry\",\n",
    "    \"Percent!!ANCESTRY!!Total population!!Irish\": \"Percentage of population with Irish ancestry\",\n",
    "    \"Percent!!ANCESTRY!!Total population!!Italian\": \"Percentage of population with Italian ancestry\",\n",
    "    \"Percent!!ANCESTRY!!Total population!!Subsaharan African\": \"Percentage of population with Subsaharan African ancestry\",\n",
    "    \"Percent!!ANCESTRY!!Total population!!West Indian (excluding Hispanic origin groups)\": \"Percentage of population with West Indian ancestry\"\n",
    "}"
   ]
  },
  {
   "cell_type": "code",
   "execution_count": 58,
   "id": "9c12e823-0b8e-4501-9c04-df372551d692",
   "metadata": {},
   "outputs": [],
   "source": [
    "new_df02 = new_df02.rename(columns=new_names)"
   ]
  },
  {
   "cell_type": "code",
   "execution_count": 59,
   "id": "0241b986-59ea-453c-a411-a4f1854bcbaf",
   "metadata": {},
   "outputs": [],
   "source": [
    "new_df02.to_csv('DP02cleaned.csv')"
   ]
  },
  {
   "cell_type": "code",
   "execution_count": 60,
   "id": "156b01e2-a3f1-4997-b941-8f6f8ea53bb6",
   "metadata": {},
   "outputs": [],
   "source": [
    "# DP02 is done"
   ]
  },
  {
   "cell_type": "code",
   "execution_count": 61,
   "id": "11f4c61b-3476-4d4c-b5c5-f159074a2423",
   "metadata": {},
   "outputs": [],
   "source": [
    "df03 = pd.read_csv('DP03_2021.csv')"
   ]
  },
  {
   "cell_type": "code",
   "execution_count": 62,
   "id": "68c004cc-40b6-49cd-9994-118a26bf7d5f",
   "metadata": {},
   "outputs": [],
   "source": [
    "df03.columns = df03.iloc[0] #treat first row as columns\n",
    "df03 = df03.drop(0)\n",
    "df03 = df03.reset_index(drop=True)"
   ]
  },
  {
   "cell_type": "code",
   "execution_count": 63,
   "id": "37c5f725-d177-40fc-9ae2-1af4910a4a29",
   "metadata": {},
   "outputs": [],
   "source": [
    "columns = [\n",
    "    \"Geographic Area Name\",\n",
    "    \"Percent!!COMMUTING TO WORK!!Workers 16 years and over!!Public transportation (excluding taxicab)\",\n",
    "    \"Estimate!!COMMUTING TO WORK!!Workers 16 years and over!!Mean travel time to work (minutes)\",\n",
    "    \"Percent!!COMMUTING TO WORK!!Workers 16 years and over!!Car, truck, or van -- drove alone\",\n",
    "    \"Percent!!COMMUTING TO WORK!!Workers 16 years and over!!Car, truck, or van -- carpooled\",\n",
    "    \"Percent!!COMMUTING TO WORK!!Workers 16 years and over!!Public transportation (excluding taxicab)\",\n",
    "    \"Percent!!COMMUTING TO WORK!!Workers 16 years and over!!Worked from home\",\n",
    "    \"Percent!!EMPLOYMENT STATUS!!Civilian labor force!!Unemployment Rate\",\n",
    "    \"Percent!!CLASS OF WORKER!!Civilian employed population 16 years and over!!Private wage and salary workers\",\n",
    "    \"Percent!!CLASS OF WORKER!!Civilian employed population 16 years and over!!Government workers\",\n",
    "    \"Percent!!EMPLOYMENT STATUS!!Population 16 years and over!!In labor force\",\n",
    "    \"Percent!!EMPLOYMENT STATUS!!Population 16 years and over!!In labor force!!Civilian labor force!!Employed\",\n",
    "    \"Percent!!EMPLOYMENT STATUS!!Population 16 years and over!!In labor force!!Civilian labor force!!Unemployed\",\n",
    "    \"Estimate!!INCOME AND BENEFITS (IN 2021 INFLATION-ADJUSTED DOLLARS)!!Total households!!Median household income (dollars)\",\n",
    "    \"Estimate!!INCOME AND BENEFITS (IN 2021 INFLATION-ADJUSTED DOLLARS)!!Total households!!Mean household income (dollars)\",\n",
    "    \"Percent!!HEALTH INSURANCE COVERAGE!!Civilian noninstitutionalized population!!No health insurance coverage\"\n",
    "]"
   ]
  },
  {
   "cell_type": "code",
   "execution_count": 64,
   "id": "63ed8012-f8b0-452b-989d-3ad30ad5888e",
   "metadata": {},
   "outputs": [],
   "source": [
    "new_df03 = df03[columns]"
   ]
  },
  {
   "cell_type": "code",
   "execution_count": 65,
   "id": "7722755e-d9e0-4190-a191-33748a760d52",
   "metadata": {},
   "outputs": [
    {
     "data": {
      "text/plain": [
       "Index(['Geographic Area Name',\n",
       "       'Percent!!COMMUTING TO WORK!!Workers 16 years and over!!Public transportation (excluding taxicab)',\n",
       "       'Estimate!!COMMUTING TO WORK!!Workers 16 years and over!!Mean travel time to work (minutes)',\n",
       "       'Percent!!COMMUTING TO WORK!!Workers 16 years and over!!Car, truck, or van -- drove alone',\n",
       "       'Percent!!COMMUTING TO WORK!!Workers 16 years and over!!Car, truck, or van -- carpooled',\n",
       "       'Percent!!COMMUTING TO WORK!!Workers 16 years and over!!Public transportation (excluding taxicab)',\n",
       "       'Percent!!COMMUTING TO WORK!!Workers 16 years and over!!Worked from home',\n",
       "       'Percent!!EMPLOYMENT STATUS!!Civilian labor force!!Unemployment Rate',\n",
       "       'Percent!!CLASS OF WORKER!!Civilian employed population 16 years and over!!Private wage and salary workers',\n",
       "       'Percent!!CLASS OF WORKER!!Civilian employed population 16 years and over!!Government workers',\n",
       "       'Percent!!EMPLOYMENT STATUS!!Population 16 years and over!!In labor force',\n",
       "       'Percent!!EMPLOYMENT STATUS!!Population 16 years and over!!In labor force!!Civilian labor force!!Employed',\n",
       "       'Percent!!EMPLOYMENT STATUS!!Population 16 years and over!!In labor force!!Civilian labor force!!Unemployed',\n",
       "       'Estimate!!INCOME AND BENEFITS (IN 2021 INFLATION-ADJUSTED DOLLARS)!!Total households!!Median household income (dollars)',\n",
       "       'Estimate!!INCOME AND BENEFITS (IN 2021 INFLATION-ADJUSTED DOLLARS)!!Total households!!Mean household income (dollars)',\n",
       "       'Percent!!HEALTH INSURANCE COVERAGE!!Civilian noninstitutionalized population!!No health insurance coverage'],\n",
       "      dtype='object', name=0)"
      ]
     },
     "execution_count": 65,
     "metadata": {},
     "output_type": "execute_result"
    }
   ],
   "source": [
    "new_df03.columns"
   ]
  },
  {
   "cell_type": "code",
   "execution_count": 66,
   "id": "a55bea3a-a2b6-4edd-920f-e4e8e4c6976c",
   "metadata": {},
   "outputs": [],
   "source": [
    "new_names = {\n",
    "    \"Geographic Area Name\": \"Zip code\",\n",
    "    \"Percent!!COMMUTING TO WORK!!Workers 16 years and over!!Public transportation (excluding taxicab)\": \"Percentage of people commuting to work\",\n",
    "    \"Estimate!!COMMUTING TO WORK!!Workers 16 years and over!!Mean travel time to work (minutes)\": \"Mean travel time to work (minutes)\",\n",
    "    \"Percent!!COMMUTING TO WORK!!Workers 16 years and over!!Car, truck, or van -- drove alone\": \"Percentage of population commuting to work by car, truck or van -- drove alone\",\n",
    "    \"Percent!!COMMUTING TO WORK!!Workers 16 years and over!!Car, truck, or van -- carpooled\": \"Percentage of population commuting to work by car -- carpoled\",\n",
    "    \"Percent!!COMMUTING TO WORK!!Workers 16 years and over!!Walked\": \"Percentage of population commuting to work by walk\",\n",
    "    \"Percent!!COMMUTING TO WORK!!Workers 16 years and over!!Worked from home\": \"Percentage of population working from home\",\n",
    "    \"Percent!!EMPLOYMENT STATUS!!Civilian labor force!!Unemployment Rate\": \"Unemployment rate\",\n",
    "    \"Percent!!CLASS OF WORKER!!Civilian employed population 16 years and over!!Private wage and salary workers\": \"Percentage of private wage and salary workers\",\n",
    "    \"Percent!!CLASS OF WORKER!!Civilian employed population 16 years and over!!Government workers\": \"Percentage of government workers\",\n",
    "    \"Percent!!EMPLOYMENT STATUS!!Population 16 years and over!!In labor force\": \"Percentage of population in labor force\",\n",
    "    \"Percent!!EMPLOYMENT STATUS!!Population 16 years and over!!In labor force!!Civilian labor force!!Employed\": \"Percentage of employed\",\n",
    "    \"Percent!!EMPLOYMENT STATUS!!Population 16 years and over!!In labor force!!Civilian labor force!!Unemployed\": \"Percentage of unemployed\",\n",
    "    \"Estimate!!INCOME AND BENEFITS (IN 2021 INFLATION-ADJUSTED DOLLARS)!!Total households!!Median household income (dollars)\": \"Median household income\",\n",
    "    \"Estimate!!INCOME AND BENEFITS (IN 2021 INFLATION-ADJUSTED DOLLARS)!!Total households!!Mean household income (dollars)\": \"Mean household income\",\n",
    "    \"Percent!!HEALTH INSURANCE COVERAGE!!Civilian noninstitutionalized population!!No health insurance coverage\": \"Percentage of population with no health insurance\"\n",
    "}"
   ]
  },
  {
   "cell_type": "code",
   "execution_count": 67,
   "id": "d00db388-d715-4db9-8d31-913c43aa7b9e",
   "metadata": {},
   "outputs": [],
   "source": [
    "new_df03 = new_df03.rename(columns=new_names)"
   ]
  },
  {
   "cell_type": "code",
   "execution_count": 68,
   "id": "c42a0cc8-feeb-48fb-96b3-b27905a6c039",
   "metadata": {},
   "outputs": [],
   "source": [
    "new_df03.to_csv('DP03cleaned.csv')"
   ]
  },
  {
   "cell_type": "code",
   "execution_count": 69,
   "id": "59f96343-faf3-4c30-b007-2f74dece87d6",
   "metadata": {},
   "outputs": [],
   "source": [
    "# DP03 is cleaned"
   ]
  },
  {
   "cell_type": "code",
   "execution_count": 70,
   "id": "4005f663-c2cb-475f-878a-19ac1cd2e92b",
   "metadata": {},
   "outputs": [],
   "source": [
    "df04 = pd.read_csv('DP04_2021.csv')"
   ]
  },
  {
   "cell_type": "code",
   "execution_count": 71,
   "id": "9af92ed1-1cb0-4511-a24c-2a3574fb3756",
   "metadata": {},
   "outputs": [],
   "source": [
    "df04.columns = df04.iloc[0] #treat first row as columns\n",
    "df04 = df04.drop(0)\n",
    "df04 = df04.reset_index(drop=True)"
   ]
  },
  {
   "cell_type": "code",
   "execution_count": 72,
   "id": "65661481-dc72-4784-9616-eeca1bd0e05d",
   "metadata": {},
   "outputs": [],
   "source": [
    "columns = [\n",
    "    \"Geographic Area Name\",\n",
    "    \"Percent!!HOUSING TENURE!!Occupied housing units!!Owner-occupied\",\n",
    "    \"Percent!!HOUSING TENURE!!Occupied housing units!!Renter-occupied\",\n",
    "    \"Estimate!!VALUE!!Owner-occupied units!!Median (dollars)\",\n",
    "    \"Estimate!!GROSS RENT!!Occupied units paying rent!!Median (dollars)\"\n",
    "]"
   ]
  },
  {
   "cell_type": "code",
   "execution_count": 73,
   "id": "3014f974-9797-43d0-8f8d-85b2ac1fccce",
   "metadata": {},
   "outputs": [],
   "source": [
    "new_df04 = df04[columns]"
   ]
  },
  {
   "cell_type": "code",
   "execution_count": 74,
   "id": "ff905784-5a04-461e-900a-004edde30af2",
   "metadata": {},
   "outputs": [
    {
     "data": {
      "text/plain": [
       "Index(['Geographic Area Name',\n",
       "       'Percent!!HOUSING TENURE!!Occupied housing units!!Owner-occupied',\n",
       "       'Percent!!HOUSING TENURE!!Occupied housing units!!Renter-occupied',\n",
       "       'Estimate!!VALUE!!Owner-occupied units!!Median (dollars)',\n",
       "       'Estimate!!GROSS RENT!!Occupied units paying rent!!Median (dollars)'],\n",
       "      dtype='object', name=0)"
      ]
     },
     "execution_count": 74,
     "metadata": {},
     "output_type": "execute_result"
    }
   ],
   "source": [
    "new_df04.columns"
   ]
  },
  {
   "cell_type": "code",
   "execution_count": 75,
   "id": "78c5b543-5aa6-40f8-bd4f-29f67249afaa",
   "metadata": {},
   "outputs": [],
   "source": [
    "new_names = {\n",
    "    \"Geographic Area Name\": \"Zip code\",\n",
    "    \"Percent!!HOUSING TENURE!!Occupied housing units!!Owner-occupied\": \"Percentage of owner occupied housing units\",\n",
    "    \"Percent!!HOUSING TENURE!!Occupied housing units!!Renter-occupied\": \"Percentage of renter occupied housing units\",\n",
    "    \"Estimate!!VALUE!!Owner-occupied units!!Median (dollars)\": \"Median price of owner occupied units (dollars)\",\n",
    "    \"Estimate!!GROSS RENT!!Occupied units paying rent!!Median (dollars)\": \"Median price of rent occupied units (dollars)\"\n",
    "}"
   ]
  },
  {
   "cell_type": "code",
   "execution_count": 76,
   "id": "1fc644c8-3af5-4adf-b5a5-fb458ea40c33",
   "metadata": {},
   "outputs": [],
   "source": [
    "new_df04 = new_df04.rename(columns=new_names)"
   ]
  },
  {
   "cell_type": "code",
   "execution_count": 77,
   "id": "4445a1c0-c619-420d-87ae-5b188991d6bd",
   "metadata": {},
   "outputs": [],
   "source": [
    "new_df04.to_csv('DP04cleaned.csv')"
   ]
  },
  {
   "cell_type": "code",
   "execution_count": 78,
   "id": "48957453-d4d1-44d8-87ff-c80f9e144cd8",
   "metadata": {},
   "outputs": [],
   "source": [
    "# DP04 cleaned"
   ]
  },
  {
   "cell_type": "code",
   "execution_count": 79,
   "id": "11eee641-0f79-47b1-a94b-ae50c1ec0707",
   "metadata": {},
   "outputs": [],
   "source": [
    "df05 = pd.read_csv('DP05_2021.csv')"
   ]
  },
  {
   "cell_type": "code",
   "execution_count": 80,
   "id": "204ec001-e0b1-491d-ac46-92e1243cf59e",
   "metadata": {},
   "outputs": [],
   "source": [
    "df05.columns = df05.iloc[0] #treat first row as columns\n",
    "df05 = df05.drop(0)\n",
    "df05 = df05.reset_index(drop=True)"
   ]
  },
  {
   "cell_type": "code",
   "execution_count": 81,
   "id": "8a891115-9e09-4125-a141-73f8395fd8e4",
   "metadata": {},
   "outputs": [],
   "source": [
    "columns = [\n",
    "    \"Geographic Area Name\",\n",
    "    \"Estimate!!SEX AND AGE!!Total population!!Median age (years)\",\n",
    "    \"Percent!!SEX AND AGE!!Total population!!Under 18 years\",\n",
    "    \"Percent!!SEX AND AGE!!Total population!!18 years and over\",\n",
    "    \"Percent!!RACE!!Total population!!One race!!White\",\n",
    "    \"Percent!!RACE!!Total population!!One race!!Black or African American\",\n",
    "    \"Percent!!RACE!!Total population!!One race!!Asian\",\n",
    "    \"Percent!!RACE!!Total population!!One race!!Native Hawaiian and Other Pacific Islander\",\n",
    "    \"Percent!!HISPANIC OR LATINO AND RACE!!Total population!!Hispanic or Latino (of any race)\"\n",
    "]"
   ]
  },
  {
   "cell_type": "code",
   "execution_count": 82,
   "id": "8319bf20-65bd-4032-b4dd-9a713e4aa818",
   "metadata": {},
   "outputs": [],
   "source": [
    "new_df05 = df05[columns]"
   ]
  },
  {
   "cell_type": "code",
   "execution_count": 83,
   "id": "1f13a448-4f45-4226-8819-709bec4c07fa",
   "metadata": {},
   "outputs": [
    {
     "data": {
      "text/plain": [
       "Index(['Geographic Area Name',\n",
       "       'Estimate!!SEX AND AGE!!Total population!!Median age (years)',\n",
       "       'Percent!!SEX AND AGE!!Total population!!Under 18 years',\n",
       "       'Percent!!SEX AND AGE!!Total population!!18 years and over',\n",
       "       'Percent!!SEX AND AGE!!Total population!!18 years and over',\n",
       "       'Percent!!RACE!!Total population!!One race!!White',\n",
       "       'Percent!!RACE!!Total population!!One race!!Black or African American',\n",
       "       'Percent!!RACE!!Total population!!One race!!Asian',\n",
       "       'Percent!!RACE!!Total population!!One race!!Native Hawaiian and Other Pacific Islander',\n",
       "       'Percent!!HISPANIC OR LATINO AND RACE!!Total population!!Hispanic or Latino (of any race)'],\n",
       "      dtype='object', name=0)"
      ]
     },
     "execution_count": 83,
     "metadata": {},
     "output_type": "execute_result"
    }
   ],
   "source": [
    "new_df05.columns"
   ]
  },
  {
   "cell_type": "code",
   "execution_count": 84,
   "id": "5dc22245-26fa-4a16-8955-0cc3d2f36b38",
   "metadata": {},
   "outputs": [],
   "source": [
    "new_names = {\n",
    "    \"Geographic Area Name\" : \"Zip code\",\n",
    "    \"Estimate!!SEX AND AGE!!Total population!!Median age (years)\": \"Median age (years)\",\n",
    "    \"Percent!!SEX AND AGE!!Total population!!Under 18 years\": \"Percentage of population under 18\",\n",
    "    \"Percent!!SEX AND AGE!!Total population!!18 years and over\": \"Percentage of population over 18\",\n",
    "    \"Percent!!RACE!!Total population!!One race!!White\": \"Percentage of white people\",\n",
    "    \"Percent!!RACE!!Total population!!One race!!Black or African American\": \"Percentage of Black or African American people\",\n",
    "    \"Percent!!RACE!!Total population!!One race!!Asian\": \"Percentage of Asian people\",\n",
    "    \"Percent!!RACE!!Total population!!One race!!Native Hawaiian and Other Pacific Islander\": \"Percentage of Native Hawaiian and Other Pacific Islander people\",\n",
    "    \"Percent!!HISPANIC OR LATINO AND RACE!!Total population!!Hispanic or Latino (of any race)\": \"Percentage of Hispanic or Latino People\"\n",
    "}"
   ]
  },
  {
   "cell_type": "code",
   "execution_count": 85,
   "id": "95458d43-4cae-4a63-85d7-4741f5c7547e",
   "metadata": {},
   "outputs": [],
   "source": [
    "new_df05 = new_df05.rename(columns=new_names)"
   ]
  },
  {
   "cell_type": "code",
   "execution_count": 86,
   "id": "0d317783-9e24-4302-a37e-ba05dcb9b830",
   "metadata": {},
   "outputs": [],
   "source": [
    "new_df05.to_csv('DP05cleaned.csv')"
   ]
  },
  {
   "cell_type": "code",
   "execution_count": 87,
   "id": "c7191a20-497b-4ff9-86cb-c90752b5604b",
   "metadata": {},
   "outputs": [],
   "source": [
    "# Main cleaning is done with all 4 census data"
   ]
  },
  {
   "cell_type": "code",
   "execution_count": 88,
   "id": "66bc2567-c46e-451c-8c86-ea551ead39ff",
   "metadata": {},
   "outputs": [],
   "source": [
    "new_df02['Zip code'] = new_df02['Zip code'].str.replace('ZCTA5 ', '')\n",
    "new_df03['Zip code'] = new_df03['Zip code'].str.replace('ZCTA5 ', '')\n",
    "new_df04['Zip code'] = new_df04['Zip code'].str.replace('ZCTA5 ', '')\n",
    "new_df05['Zip code'] = new_df05['Zip code'].str.replace('ZCTA5 ', '')"
   ]
  },
  {
   "cell_type": "code",
   "execution_count": 89,
   "id": "6a7b6dc2-d70e-4d0e-be97-1a9c1f5599ad",
   "metadata": {},
   "outputs": [],
   "source": [
    "zip_codes_to_remove = ['02133', '02203', '02205']\n",
    "new_df02 = new_df02[~new_df02['Zip code'].isin(zip_codes_to_remove)]\n",
    "new_df03 = new_df03[~new_df03['Zip code'].isin(zip_codes_to_remove)]\n",
    "new_df04 = new_df04[~new_df04['Zip code'].isin(zip_codes_to_remove)]\n",
    "new_df05 = new_df05[~new_df05['Zip code'].isin(zip_codes_to_remove)]"
   ]
  },
  {
   "cell_type": "code",
   "execution_count": 90,
   "id": "3d9b5dfb-0a64-4bf6-9fa4-ebd6544108fc",
   "metadata": {},
   "outputs": [],
   "source": [
    "new_df02.to_csv('DP02cleaned.csv')\n",
    "new_df03.to_csv('DP03cleaned.csv')\n",
    "new_df04.to_csv('DP04cleaned.csv')\n",
    "new_df05.to_csv('DP05cleaned.csv')\n"
   ]
  },
  {
   "cell_type": "code",
   "execution_count": 91,
   "id": "4bf0d9c3-54da-45ca-8f0f-6b5fa1bfa496",
   "metadata": {},
   "outputs": [],
   "source": [
    "merged_df = new_df02.merge(new_df03, on='Zip code').merge(new_df04, on='Zip code').merge(new_df05, on='Zip code')"
   ]
  },
  {
   "cell_type": "code",
   "execution_count": 92,
   "id": "c1386b89-6e8a-4e1a-ac12-dcbe3cc17717",
   "metadata": {},
   "outputs": [],
   "source": [
    "merged_df.to_csv('MergedCensus.csv')"
   ]
  },
  {
   "cell_type": "code",
   "execution_count": 93,
   "id": "0416a407-9a4b-4803-bfc8-b2391b037102",
   "metadata": {},
   "outputs": [],
   "source": [
    "# Cleaning Mergedcensus.csv"
   ]
  },
  {
   "cell_type": "code",
   "execution_count": 94,
   "id": "868d066d-7fe2-4a34-881f-b98028186bd2",
   "metadata": {},
   "outputs": [],
   "source": [
    "merged_census = pd.read_csv('MergedCensus.csv')"
   ]
  },
  {
   "cell_type": "code",
   "execution_count": 95,
   "id": "200ace93-b57e-4495-becb-ce5ada24cf16",
   "metadata": {},
   "outputs": [
    {
     "data": {
      "text/plain": [
       "Unnamed: 0                                                                                              0\n",
       "Zip code                                                                                                0\n",
       "Total population                                                                                        0\n",
       "Average Household Size                                                                                  0\n",
       "Percentage of Foreign Born Residents                                                                    0\n",
       "Percentage of Non-English Speakers                                                                      0\n",
       "Percentage of population aged 5 years and over who speak Spanish at home                                0\n",
       "Percentage of population aged 5 years and over who speak an Indo-european other than Spanish at home    0\n",
       "Percentage of population aged 5 years and over who speak an Asian and Pacific Islander language         0\n",
       "Percentage of population aged 5 years and over who speak other language at home                         0\n",
       "Percent!!EDUCATIONAL ATTAINMENT!!Population 25 years and over!!Bachelor's degree                        0\n",
       "Percentage of population with American ancestry                                                         0\n",
       "Percentage of population with Arab ancestry                                                             0\n",
       "Percentage of population with Dutch ancestry                                                            0\n",
       "Percentage of population with English ancestry                                                          0\n",
       "Percentage of population with French ancestry                                                           0\n",
       "Percentage of population with German ancestry                                                           0\n",
       "Percentage of population with Irish ancestry                                                            0\n",
       "Percentage of population with Italian ancestry                                                          0\n",
       "Percentage of population with Subsaharan African ancestry                                               0\n",
       "Percentage of population with West Indian ancestry                                                      0\n",
       "Percentage of people commuting to work                                                                  0\n",
       "Mean travel time to work (minutes)                                                                      0\n",
       "Percentage of population commuting to work by car, truck or van -- drove alone                          0\n",
       "Percentage of population commuting to work by car -- carpoled                                           0\n",
       "Percentage of people commuting to work.1                                                                0\n",
       "Percentage of population working from home                                                              0\n",
       "Unemployment rate                                                                                       0\n",
       "Percentage of private wage and salary workers                                                           0\n",
       "Percentage of government workers                                                                        0\n",
       "Percentage of population in labor force                                                                 0\n",
       "Percentage of employed                                                                                  0\n",
       "Percentage of unemployed                                                                                0\n",
       "Median household income                                                                                 0\n",
       "Mean household income                                                                                   0\n",
       "Percentage of population with no health insurance                                                       0\n",
       "Percentage of owner occupied housing units                                                              0\n",
       "Percentage of renter occupied housing units                                                             0\n",
       "Median price of owner occupied units (dollars)                                                          0\n",
       "Median price of rent occupied units (dollars)                                                           0\n",
       "Median age (years)                                                                                      0\n",
       "Percentage of population under 18                                                                       0\n",
       "Percentage of population over 18                                                                        0\n",
       "Percentage of population over 18.1                                                                      0\n",
       "Percentage of white people                                                                              0\n",
       "Percentage of Black or African American people                                                          0\n",
       "Percentage of Asian people                                                                              0\n",
       "Percentage of Native Hawaiian and Other Pacific Islander people                                         0\n",
       "Percentage of Hispanic or Latino People                                                                 0\n",
       "dtype: int64"
      ]
     },
     "execution_count": 95,
     "metadata": {},
     "output_type": "execute_result"
    }
   ],
   "source": [
    "merged_census.isnull().sum()"
   ]
  },
  {
   "cell_type": "code",
   "execution_count": 96,
   "id": "c361f197-1550-4aec-9eed-7fd99577d3b8",
   "metadata": {},
   "outputs": [],
   "source": [
    "columns_to_drop = ['Unnamed: 0', 'Percentage of people commuting to work.1', 'Percentage of population over 18.1']\n",
    "merged_census = merged_census.drop(columns_to_drop, axis=1)"
   ]
  },
  {
   "cell_type": "code",
   "execution_count": 97,
   "id": "ceb722f6-b780-48ce-95f1-9ad1ae00d3c0",
   "metadata": {},
   "outputs": [
    {
     "data": {
      "text/plain": [
       "Index(['Zip code', 'Total population', 'Average Household Size',\n",
       "       'Percentage of Foreign Born Residents',\n",
       "       'Percentage of Non-English Speakers',\n",
       "       'Percentage of population aged 5 years and over who speak Spanish at home',\n",
       "       'Percentage of population aged 5 years and over who speak an Indo-european other than Spanish at home',\n",
       "       'Percentage of population aged 5 years and over who speak an Asian and Pacific Islander language',\n",
       "       'Percentage of population aged 5 years and over who speak other language at home',\n",
       "       'Percent!!EDUCATIONAL ATTAINMENT!!Population 25 years and over!!Bachelor's degree',\n",
       "       'Percentage of population with American ancestry',\n",
       "       'Percentage of population with Arab ancestry',\n",
       "       'Percentage of population with Dutch ancestry',\n",
       "       'Percentage of population with English ancestry',\n",
       "       'Percentage of population with French ancestry',\n",
       "       'Percentage of population with German ancestry',\n",
       "       'Percentage of population with Irish ancestry',\n",
       "       'Percentage of population with Italian ancestry',\n",
       "       'Percentage of population with Subsaharan African ancestry',\n",
       "       'Percentage of population with West Indian ancestry',\n",
       "       'Percentage of people commuting to work',\n",
       "       'Mean travel time to work (minutes)',\n",
       "       'Percentage of population commuting to work by car, truck or van -- drove alone',\n",
       "       'Percentage of population commuting to work by car -- carpoled',\n",
       "       'Percentage of population working from home', 'Unemployment rate',\n",
       "       'Percentage of private wage and salary workers',\n",
       "       'Percentage of government workers',\n",
       "       'Percentage of population in labor force', 'Percentage of employed',\n",
       "       'Percentage of unemployed', 'Median household income',\n",
       "       'Mean household income',\n",
       "       'Percentage of population with no health insurance',\n",
       "       'Percentage of owner occupied housing units',\n",
       "       'Percentage of renter occupied housing units',\n",
       "       'Median price of owner occupied units (dollars)',\n",
       "       'Median price of rent occupied units (dollars)', 'Median age (years)',\n",
       "       'Percentage of population under 18', 'Percentage of population over 18',\n",
       "       'Percentage of white people',\n",
       "       'Percentage of Black or African American people',\n",
       "       'Percentage of Asian people',\n",
       "       'Percentage of Native Hawaiian and Other Pacific Islander people',\n",
       "       'Percentage of Hispanic or Latino People'],\n",
       "      dtype='object')"
      ]
     },
     "execution_count": 97,
     "metadata": {},
     "output_type": "execute_result"
    }
   ],
   "source": [
    "merged_census.columns"
   ]
  },
  {
   "cell_type": "code",
   "execution_count": 98,
   "id": "4ae7d489-57ef-4d43-a3ec-7ffb1b6ba511",
   "metadata": {},
   "outputs": [],
   "source": [
    "merged_census.to_csv('MergedCensus.csv')"
   ]
  },
  {
   "cell_type": "code",
   "execution_count": null,
   "id": "57d0ea44-2b53-4b25-aabe-f15764d47ebb",
   "metadata": {},
   "outputs": [],
   "source": []
  }
 ],
 "metadata": {
  "kernelspec": {
   "display_name": "Python 3 (ipykernel)",
   "language": "python",
   "name": "python3"
  },
  "language_info": {
   "codemirror_mode": {
    "name": "ipython",
    "version": 3
   },
   "file_extension": ".py",
   "mimetype": "text/x-python",
   "name": "python",
   "nbconvert_exporter": "python",
   "pygments_lexer": "ipython3",
   "version": "3.8.0"
  }
 },
 "nbformat": 4,
 "nbformat_minor": 5
}
