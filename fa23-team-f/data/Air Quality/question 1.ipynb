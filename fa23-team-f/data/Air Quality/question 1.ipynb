{
 "cells": [
  {
   "cell_type": "code",
   "execution_count": 1,
   "metadata": {},
   "outputs": [
    {
     "ename": "NameError",
     "evalue": "name 'combined_data_cleaned' is not defined",
     "output_type": "error",
     "traceback": [
      "\u001b[1;31m---------------------------------------------------------------------------\u001b[0m",
      "\u001b[1;31mNameError\u001b[0m                                 Traceback (most recent call last)",
      "\u001b[1;32mc:\\Users\\XPS\\Desktop\\506 midterm\\midterm-Ziliang4936-master\\question 1.ipynb Cell 1\u001b[0m line \u001b[0;36m6\n\u001b[0;32m      <a href='vscode-notebook-cell:/c%3A/Users/XPS/Desktop/506%20midterm/midterm-Ziliang4936-master/question%201.ipynb#W0sZmlsZQ%3D%3D?line=3'>4</a>\u001b[0m sns\u001b[39m.\u001b[39mset(style\u001b[39m=\u001b[39m\u001b[39m\"\u001b[39m\u001b[39mwhitegrid\u001b[39m\u001b[39m\"\u001b[39m)\n\u001b[0;32m      <a href='vscode-notebook-cell:/c%3A/Users/XPS/Desktop/506%20midterm/midterm-Ziliang4936-master/question%201.ipynb#W0sZmlsZQ%3D%3D?line=4'>5</a>\u001b[0m plt\u001b[39m.\u001b[39mfigure(figsize\u001b[39m=\u001b[39m(\u001b[39m12\u001b[39m, \u001b[39m6\u001b[39m))\n\u001b[1;32m----> <a href='vscode-notebook-cell:/c%3A/Users/XPS/Desktop/506%20midterm/midterm-Ziliang4936-master/question%201.ipynb#W0sZmlsZQ%3D%3D?line=5'>6</a>\u001b[0m sns\u001b[39m.\u001b[39mscatterplot(x\u001b[39m=\u001b[39m\u001b[39m'\u001b[39m\u001b[39mMBTA_Stops_Count\u001b[39m\u001b[39m'\u001b[39m, y\u001b[39m=\u001b[39m\u001b[39m'\u001b[39m\u001b[39mAQI_OZONE\u001b[39m\u001b[39m'\u001b[39m, data\u001b[39m=\u001b[39mcombined_data_cleaned, color\u001b[39m=\u001b[39m\u001b[39m'\u001b[39m\u001b[39mblue\u001b[39m\u001b[39m'\u001b[39m, label\u001b[39m=\u001b[39m\u001b[39m'\u001b[39m\u001b[39mOzone\u001b[39m\u001b[39m'\u001b[39m)\n\u001b[0;32m      <a href='vscode-notebook-cell:/c%3A/Users/XPS/Desktop/506%20midterm/midterm-Ziliang4936-master/question%201.ipynb#W0sZmlsZQ%3D%3D?line=6'>7</a>\u001b[0m plt\u001b[39m.\u001b[39mtitle(\u001b[39m'\u001b[39m\u001b[39mScatter Plot of AQI_OZONE vs. MBTA Stops Count\u001b[39m\u001b[39m'\u001b[39m)\n\u001b[0;32m      <a href='vscode-notebook-cell:/c%3A/Users/XPS/Desktop/506%20midterm/midterm-Ziliang4936-master/question%201.ipynb#W0sZmlsZQ%3D%3D?line=7'>8</a>\u001b[0m plt\u001b[39m.\u001b[39mxlabel(\u001b[39m'\u001b[39m\u001b[39mNumber of MBTA Stops\u001b[39m\u001b[39m'\u001b[39m)\n",
      "\u001b[1;31mNameError\u001b[0m: name 'combined_data_cleaned' is not defined"
     ]
    },
    {
     "data": {
      "text/plain": [
       "<Figure size 1200x600 with 0 Axes>"
      ]
     },
     "metadata": {},
     "output_type": "display_data"
    }
   ],
   "source": [
    "import matplotlib.pyplot as plt\n",
    "import seaborn as sns\n",
    "\n",
    "sns.set(style=\"whitegrid\")\n",
    "plt.figure(figsize=(12, 6))\n",
    "sns.scatterplot(x='MBTA_Stops_Count', y='AQI_OZONE', data=combined_data_cleaned, color='blue', label='Ozone')\n",
    "plt.title('Scatter Plot of AQI_OZONE vs. MBTA Stops Count')\n",
    "plt.xlabel('Number of MBTA Stops')\n",
    "plt.ylabel('AQI for Ozone')\n",
    "plt.legend()\n",
    "plt.show()\n",
    "    "
   ]
  },
  {
   "cell_type": "code",
   "execution_count": 3,
   "metadata": {},
   "outputs": [
    {
     "name": "stderr",
     "output_type": "stream",
     "text": [
      "C:\\Users\\XPS\\AppData\\Local\\Temp\\ipykernel_14412\\3067460307.py:1: DeprecationWarning: lib2to3 package is deprecated and may not be able to parse Python 3.10+\n",
      "  from lib2to3.pgen2.pgen import DFAState\n"
     ]
    },
    {
     "ename": "TypeError",
     "evalue": "type 'DFAState' is not subscriptable",
     "output_type": "error",
     "traceback": [
      "\u001b[1;31m---------------------------------------------------------------------------\u001b[0m",
      "\u001b[1;31mTypeError\u001b[0m                                 Traceback (most recent call last)",
      "\u001b[1;32mc:\\Users\\XPS\\Desktop\\506 midterm\\midterm-Ziliang4936-master\\question 1.ipynb Cell 2\u001b[0m line \u001b[0;36m1\n\u001b[0;32m     <a href='vscode-notebook-cell:/c%3A/Users/XPS/Desktop/506%20midterm/midterm-Ziliang4936-master/question%201.ipynb#W3sZmlsZQ%3D%3D?line=14'>15</a>\u001b[0m \u001b[39m# Creating the first subplot\u001b[39;00m\n\u001b[0;32m     <a href='vscode-notebook-cell:/c%3A/Users/XPS/Desktop/506%20midterm/midterm-Ziliang4936-master/question%201.ipynb#W3sZmlsZQ%3D%3D?line=15'>16</a>\u001b[0m plt\u001b[39m.\u001b[39msubplot(\u001b[39m1\u001b[39m, \u001b[39m2\u001b[39m, \u001b[39m1\u001b[39m)\n\u001b[1;32m---> <a href='vscode-notebook-cell:/c%3A/Users/XPS/Desktop/506%20midterm/midterm-Ziliang4936-master/question%201.ipynb#W3sZmlsZQ%3D%3D?line=16'>17</a>\u001b[0m sns\u001b[39m.\u001b[39mregplot(x\u001b[39m=\u001b[39m\u001b[39m'\u001b[39m\u001b[39mMBTA_Stops_Count\u001b[39m\u001b[39m'\u001b[39m, y\u001b[39m=\u001b[39m\u001b[39m'\u001b[39m\u001b[39mAQI_OZONE\u001b[39m\u001b[39m'\u001b[39m, data\u001b[39m=\u001b[39mDFAState, ci\u001b[39m=\u001b[39m\u001b[39m95\u001b[39m, color\u001b[39m=\u001b[39m\u001b[39m'\u001b[39m\u001b[39mred\u001b[39m\u001b[39m'\u001b[39m)\n\u001b[0;32m     <a href='vscode-notebook-cell:/c%3A/Users/XPS/Desktop/506%20midterm/midterm-Ziliang4936-master/question%201.ipynb#W3sZmlsZQ%3D%3D?line=17'>18</a>\u001b[0m plt\u001b[39m.\u001b[39mtitle(\u001b[39m'\u001b[39m\u001b[39mAQI_OZONE vs. MBTA_Stops_Count\u001b[39m\u001b[39m'\u001b[39m)\n\u001b[0;32m     <a href='vscode-notebook-cell:/c%3A/Users/XPS/Desktop/506%20midterm/midterm-Ziliang4936-master/question%201.ipynb#W3sZmlsZQ%3D%3D?line=19'>20</a>\u001b[0m \u001b[39m# Creating the second subplot\u001b[39;00m\n",
      "File \u001b[1;32mc:\\Users\\XPS\\anaconda3\\Lib\\site-packages\\seaborn\\regression.py:747\u001b[0m, in \u001b[0;36mregplot\u001b[1;34m(data, x, y, x_estimator, x_bins, x_ci, scatter, fit_reg, ci, n_boot, units, seed, order, logistic, lowess, robust, logx, x_partial, y_partial, truncate, dropna, x_jitter, y_jitter, label, color, marker, scatter_kws, line_kws, ax)\u001b[0m\n\u001b[0;32m    736\u001b[0m \u001b[39mdef\u001b[39;00m \u001b[39mregplot\u001b[39m(\n\u001b[0;32m    737\u001b[0m     data\u001b[39m=\u001b[39m\u001b[39mNone\u001b[39;00m, \u001b[39m*\u001b[39m, x\u001b[39m=\u001b[39m\u001b[39mNone\u001b[39;00m, y\u001b[39m=\u001b[39m\u001b[39mNone\u001b[39;00m,\n\u001b[0;32m    738\u001b[0m     x_estimator\u001b[39m=\u001b[39m\u001b[39mNone\u001b[39;00m, x_bins\u001b[39m=\u001b[39m\u001b[39mNone\u001b[39;00m, x_ci\u001b[39m=\u001b[39m\u001b[39m\"\u001b[39m\u001b[39mci\u001b[39m\u001b[39m\"\u001b[39m,\n\u001b[1;32m   (...)\u001b[0m\n\u001b[0;32m    744\u001b[0m     scatter_kws\u001b[39m=\u001b[39m\u001b[39mNone\u001b[39;00m, line_kws\u001b[39m=\u001b[39m\u001b[39mNone\u001b[39;00m, ax\u001b[39m=\u001b[39m\u001b[39mNone\u001b[39;00m\n\u001b[0;32m    745\u001b[0m ):\n\u001b[1;32m--> 747\u001b[0m     plotter \u001b[39m=\u001b[39m _RegressionPlotter(x, y, data, x_estimator, x_bins, x_ci,\n\u001b[0;32m    748\u001b[0m                                  scatter, fit_reg, ci, n_boot, units, seed,\n\u001b[0;32m    749\u001b[0m                                  order, logistic, lowess, robust, logx,\n\u001b[0;32m    750\u001b[0m                                  x_partial, y_partial, truncate, dropna,\n\u001b[0;32m    751\u001b[0m                                  x_jitter, y_jitter, color, label)\n\u001b[0;32m    753\u001b[0m     \u001b[39mif\u001b[39;00m ax \u001b[39mis\u001b[39;00m \u001b[39mNone\u001b[39;00m:\n\u001b[0;32m    754\u001b[0m         ax \u001b[39m=\u001b[39m plt\u001b[39m.\u001b[39mgca()\n",
      "File \u001b[1;32mc:\\Users\\XPS\\anaconda3\\Lib\\site-packages\\seaborn\\regression.py:107\u001b[0m, in \u001b[0;36m_RegressionPlotter.__init__\u001b[1;34m(self, x, y, data, x_estimator, x_bins, x_ci, scatter, fit_reg, ci, n_boot, units, seed, order, logistic, lowess, robust, logx, x_partial, y_partial, truncate, dropna, x_jitter, y_jitter, color, label)\u001b[0m\n\u001b[0;32m    104\u001b[0m     \u001b[39mraise\u001b[39;00m \u001b[39mValueError\u001b[39;00m(\u001b[39m\"\u001b[39m\u001b[39mMutually exclusive regression options.\u001b[39m\u001b[39m\"\u001b[39m)\n\u001b[0;32m    106\u001b[0m \u001b[39m# Extract the data vals from the arguments or passed dataframe\u001b[39;00m\n\u001b[1;32m--> 107\u001b[0m \u001b[39mself\u001b[39m\u001b[39m.\u001b[39mestablish_variables(data, x\u001b[39m=\u001b[39mx, y\u001b[39m=\u001b[39my, units\u001b[39m=\u001b[39munits,\n\u001b[0;32m    108\u001b[0m                          x_partial\u001b[39m=\u001b[39mx_partial, y_partial\u001b[39m=\u001b[39my_partial)\n\u001b[0;32m    110\u001b[0m \u001b[39m# Drop null observations\u001b[39;00m\n\u001b[0;32m    111\u001b[0m \u001b[39mif\u001b[39;00m dropna:\n",
      "File \u001b[1;32mc:\\Users\\XPS\\anaconda3\\Lib\\site-packages\\seaborn\\regression.py:44\u001b[0m, in \u001b[0;36m_LinearPlotter.establish_variables\u001b[1;34m(self, data, **kws)\u001b[0m\n\u001b[0;32m     42\u001b[0m \u001b[39mfor\u001b[39;00m var, val \u001b[39min\u001b[39;00m kws\u001b[39m.\u001b[39mitems():\n\u001b[0;32m     43\u001b[0m     \u001b[39mif\u001b[39;00m \u001b[39misinstance\u001b[39m(val, \u001b[39mstr\u001b[39m):\n\u001b[1;32m---> 44\u001b[0m         vector \u001b[39m=\u001b[39m data[val]\n\u001b[0;32m     45\u001b[0m     \u001b[39melif\u001b[39;00m \u001b[39misinstance\u001b[39m(val, \u001b[39mlist\u001b[39m):\n\u001b[0;32m     46\u001b[0m         vector \u001b[39m=\u001b[39m np\u001b[39m.\u001b[39masarray(val)\n",
      "\u001b[1;31mTypeError\u001b[0m: type 'DFAState' is not subscriptable"
     ]
    },
    {
     "data": {
      "image/png": "[encoded data removed]",
      "text/plain": [
       "<Figure size 1200x500 with 1 Axes>"
      ]
     },
     "metadata": {},
     "output_type": "display_data"
    }
   ],
   "source": [
    "from lib2to3.pgen2.pgen import DFAState\n",
    "import matplotlib.pyplot as plt\n",
    "import seaborn as sns\n",
    "import pandas as pd\n",
    "\n",
    "# Load your data into a pandas DataFrame here\n",
    "# df = pd.read_csv(\"your_data.csv\")\n",
    "\n",
    "# Setting the aesthetic style of the plots\n",
    "sns.set_style(\"whitegrid\")\n",
    "\n",
    "# Creating a figure object\n",
    "plt.figure(figsize=(12, 5))\n",
    "\n",
    "\n",
    "plt.subplot(1, 2, 1)\n",
    "sns.regplot(x='MBTA_Stops_Count', y='AQI_OZONE', data=DFAState, ci=95, color='red')\n",
    "plt.title('AQI_OZONE vs. MBTA_Stops_Count')\n",
    "\n",
    "# Creating the second subplot\n",
    "plt.subplot(1, 2, 2)\n",
    "sns.regplot(x='MBTA_Stops_Count', y='AQI_PM2.5', data=DFAState, ci=95, color='blue')\n",
    "plt.title('AQI_PM2.5 vs. MBTA_Stops_Count')\n",
    "\n",
    "# Displaying the plots\n",
    "plt.tight_layout()\n",
    "plt.show()\n"
   ]
  },
  {
   "cell_type": "code",
   "execution_count": null,
   "metadata": {},
   "outputs": [],
   "source": [
    "plt.figure(figsize=(12, 6))\n",
    "sns.scatterplot(x='MBTA_Stops_Count', y='AQI_PM2.5', data=combined_data_cleaned, color='green', label='PM2.5')\n",
    "plt.title('Scatter Plot of AQI_PM2.5 vs. MBTA Stops Count')\n",
    "plt.xlabel('Number of MBTA Stops')\n",
    "plt.ylabel('AQI for PM2.5')\n",
    "plt.legend()\n",
    "plt.show()\n"
   ]
  },
  {
   "cell_type": "code",
   "execution_count": null,
   "metadata": {},
   "outputs": [],
   "source": [
    "ozone_mbta_data_points = combined_data_cleaned.groupby('ZipCode').agg({\n",
    "    'AQI_OZONE': 'mean',\n",
    "    'MBTA_Stops_Count': 'mean'\n",
    "}).reset_index()\n",
    "ozone_mbta_data_points\n"
   ]
  }
 ],
 "metadata": {
  "kernelspec": {
   "display_name": "base",
   "language": "python",
   "name": "python3"
  },
  "language_info": {
   "codemirror_mode": {
    "name": "ipython",
    "version": 3
   },
   "file_extension": ".py",
   "mimetype": "text/x-python",
   "name": "python",
   "nbconvert_exporter": "python",
   "pygments_lexer": "ipython3",
   "version": "3.11.4"
  }
 },
 "nbformat": 4,
 "nbformat_minor": 2
}
