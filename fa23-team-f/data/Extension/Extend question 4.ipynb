{
 "cells": [
  {
   "cell_type": "code",
   "execution_count": 1,
   "metadata": {},
   "outputs": [],
   "source": [
    "import pandas as pd\n",
    "import seaborn as sns\n",
    "import matplotlib.pyplot as plt"
   ]
  },
  {
   "cell_type": "code",
   "execution_count": 5,
   "metadata": {},
   "outputs": [],
   "source": [
    "df1 = pd.read_csv('resultneighborhood.csv')\n",
    "df2 = pd.read_csv('Parks_Counts.csv')\n",
    "merged_df = pd.merge(df1, df2, on='Name', how='inner')\n",
    "merged_df.columns"
   ]
  },
  {
   "cell_type": "code",
   "execution_count": 3,
   "metadata": {},
   "outputs": [
    {
     "ename": "NameError",
     "evalue": "name 'data' is not defined",
     "output_type": "error",
     "traceback": [
      "\u001b[1;31m---------------------------------------------------------------------------\u001b[0m",
      "\u001b[1;31mNameError\u001b[0m                                 Traceback (most recent call last)",
      "\u001b[1;32mc:\\Users\\XPS\\Desktop\\openspace\\Untitled-2.ipynb Cell 3\u001b[0m line \u001b[0;36m1\n\u001b[1;32m----> <a href='vscode-notebook-cell:/c%3A/Users/XPS/Desktop/openspace/Untitled-2.ipynb#W3sZmlsZQ%3D%3D?line=0'>1</a>\u001b[0m correlation \u001b[39m=\u001b[39m data[\u001b[39m'\u001b[39m\u001b[39mPayroll Jobs\u001b[39m\u001b[39m'\u001b[39m]\u001b[39m.\u001b[39mcorr(data[\u001b[39m'\u001b[39m\u001b[39mAQI\u001b[39m\u001b[39m'\u001b[39m])\n\u001b[0;32m      <a href='vscode-notebook-cell:/c%3A/Users/XPS/Desktop/openspace/Untitled-2.ipynb#W3sZmlsZQ%3D%3D?line=1'>2</a>\u001b[0m \u001b[39mprint\u001b[39m(\u001b[39mf\u001b[39m\u001b[39m\"\u001b[39m\u001b[39mCorrelation coefficient: \u001b[39m\u001b[39m{\u001b[39;00mcorrelation\u001b[39m}\u001b[39;00m\u001b[39m\"\u001b[39m)\n\u001b[0;32m      <a href='vscode-notebook-cell:/c%3A/Users/XPS/Desktop/openspace/Untitled-2.ipynb#W3sZmlsZQ%3D%3D?line=3'>4</a>\u001b[0m sns\u001b[39m.\u001b[39mregplot(x\u001b[39m=\u001b[39m\u001b[39m'\u001b[39m\u001b[39mPayroll Jobs\u001b[39m\u001b[39m'\u001b[39m, y\u001b[39m=\u001b[39m\u001b[39m'\u001b[39m\u001b[39mAQI\u001b[39m\u001b[39m'\u001b[39m, data\u001b[39m=\u001b[39mdata, scatter_kws\u001b[39m=\u001b[39m{\u001b[39m'\u001b[39m\u001b[39ms\u001b[39m\u001b[39m'\u001b[39m: \u001b[39m50\u001b[39m, \u001b[39m'\u001b[39m\u001b[39malpha\u001b[39m\u001b[39m'\u001b[39m: \u001b[39m0.7\u001b[39m})\n",
      "\u001b[1;31mNameError\u001b[0m: name 'data' is not defined"
     ]
    }
   ],
   "source": [
    "correlation = data['Payroll Jobs'].corr(data['AQI'])\n",
    "print(f\"Correlation coefficient: {correlation}\")\n",
    "\n",
    "sns.regplot(x='Payroll Jobs', y='AQI', data=data, scatter_kws={'s': 50, 'alpha': 0.7})\n",
    "\n",
    "for i, neighborhood in enumerate(data['Name']):\n",
    "    plt.text(data['Payroll Jobs'][i], data['AQI'][i], neighborhood, fontsize=9, ha='right')\n",
    "\n",
    "plt.title('Payroll Jobs vs AQI')\n",
    "\n",
    "plt.show()"
   ]
  },
  {
   "cell_type": "code",
   "execution_count": null,
   "metadata": {},
   "outputs": [
    {
     "data": {
      "text/plain": [
       "0.0"
      ]
     },
     "metadata": {},
     "output_type": "display_data"
    }
   ],
   "source": []
  }
 ],
 "metadata": {
  "kernelspec": {
   "display_name": "Python 3",
   "language": "python",
   "name": "python3"
  },
  "language_info": {
   "codemirror_mode": {
    "name": "ipython",
    "version": 3
   },
   "file_extension": ".py",
   "mimetype": "text/x-python",
   "name": "python",
   "nbconvert_exporter": "python",
   "pygments_lexer": "ipython3",
   "version": "3.11.4"
  }
 },
 "nbformat": 4,
 "nbformat_minor": 2
}
