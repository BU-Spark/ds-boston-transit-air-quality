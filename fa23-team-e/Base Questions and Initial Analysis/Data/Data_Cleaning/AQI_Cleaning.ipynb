{
 "cells": [
  {
   "cell_type": "markdown",
   "id": "51ea6c5c",
   "metadata": {},
   "source": [
    "Here I expanded the data column of the original AQI dataset so that each key value pair becomes a new column where the column name is the key value."
   ]
  },
  {
   "cell_type": "code",
   "execution_count": 4,
   "id": "90bd9bd4",
   "metadata": {},
   "outputs": [
    {
     "data": {
      "text/plain": [
       "((16400, 11),\n",
       "          date  zip_code ReportingArea StateCode  Latitude  Longitude  \\\n",
       " 0  2021-01-01      2045      Weymouth        MA   42.2459   -70.9628   \n",
       " 1  2021-01-02      2045      Weymouth        MA   42.2459   -70.9628   \n",
       " 2  2021-01-03      2045      Weymouth        MA   42.2459   -70.9628   \n",
       " 3  2021-01-04      2045      Weymouth        MA   42.2459   -70.9628   \n",
       " 4  2021-01-05      2045      Weymouth        MA   42.2459   -70.9628   \n",
       " \n",
       "    OZONEAQI  PM2.5AQI PM10AQI  CategoryNumber CategoryName  \n",
       " 0       NaN      40.0    None             1.0         Good  \n",
       " 1       NaN      17.0    None             1.0         Good  \n",
       " 2       NaN      25.0    None             1.0         Good  \n",
       " 3       NaN      28.0    None             1.0         Good  \n",
       " 4       NaN      20.0    None             1.0         Good  )"
      ]
     },
     "execution_count": 4,
     "metadata": {},
     "output_type": "execute_result"
    }
   ],
   "source": [
    "# Adjusting the transformation function to also handle \"PM10\" and ignore unexpected parameters.\n",
    "def extended_transform(row):\n",
    "    # Parse the JSON data\n",
    "    parsed_data = json.loads(row['data'])\n",
    "    \n",
    "    # Initialize a dictionary to store the transformed data with default values\n",
    "    transformed = {\n",
    "        'date': row['date'],\n",
    "        'zip_code': row['zip_code'],\n",
    "        'ReportingArea': '',\n",
    "        'StateCode': '',\n",
    "        'Latitude': 0,\n",
    "        'Longitude': 0,\n",
    "        'OZONEAQI': None,  # Default as None, which will be replaced by actual values or remain as NaN in the DataFrame\n",
    "        'PM2.5AQI': None,  # Same as above\n",
    "        'PM10AQI': None,  # Adding default for PM10\n",
    "        'CategoryNumber': None,\n",
    "        'CategoryName': ''\n",
    "    }\n",
    "\n",
    "    # Extracting information specific to \"OZONE\", \"PM2.5\", and \"PM10\"\n",
    "    for record in parsed_data:\n",
    "        parameter = record['ParameterName']\n",
    "        \n",
    "        if parameter not in ['OZONE', 'PM2.5', 'PM10']:\n",
    "            continue  # If the parameter is not one of the expected types, skip it\n",
    "        \n",
    "        # Update the common information if not already done\n",
    "        if not transformed['ReportingArea']:\n",
    "            transformed.update({\n",
    "                'ReportingArea': record['ReportingArea'],\n",
    "                'StateCode': record['StateCode'],\n",
    "                'Latitude': record['Latitude'],\n",
    "                'Longitude': record['Longitude'],\n",
    "                'CategoryNumber': record['Category']['Number'],\n",
    "                'CategoryName': record['Category']['Name']\n",
    "            })\n",
    "        \n",
    "        # Update the AQI values for the specific parameters\n",
    "        transformed[f'{parameter}AQI'] = record['AQI']\n",
    "    \n",
    "    return transformed\n",
    "\n",
    "\n",
    "# Load the new dataset\n",
    "new_file_path = '../Datasets/AQI/2021_daily_aqi_data.csv'\n",
    "new_data = pd.read_csv(new_file_path)\n",
    "\n",
    "# Apply the transformation to each row in the new dataset\n",
    "extended_transformed_data_2021 = new_data.apply(extended_transform, axis=1)\n",
    "\n",
    "# Convert the results into a DataFrame\n",
    "final_extended_df_2021 = pd.DataFrame(list(extended_transformed_data_2021))\n",
    "\n",
    "# Saving the final DataFrame to a CSV file\n",
    "final_extended_df_2021.to_csv('../Datasets/AQI/2021_Daily_Aqi_Data_Cleaned', index=False)\n",
    "\n",
    "# Returning the shape of the final DataFrame and the first few rows to confirm the transformation\n",
    "(final_extended_df_2021.shape, final_extended_df_2021.head())\n"
   ]
  },
  {
   "cell_type": "markdown",
   "id": "cf23d942",
   "metadata": {},
   "source": [
    "Now I will calculate the average AQI of each zipcode and save it in a new csv file."
   ]
  },
  {
   "cell_type": "code",
   "execution_count": 16,
   "id": "bcf3585f",
   "metadata": {},
   "outputs": [],
   "source": [
    "path_file = '../Datasets/AQI/2021_Daily_Aqi_Data_Cleaned.csv'\n",
    "df = pd.read_csv(path_file)\n",
    "\n",
    "averages = df.groupby('zip_code')[['OZONEAQI', 'PM2.5AQI']].mean().reset_index()\n",
    "averages['zip_code'] = averages['zip_code'].astype(str).str.zfill(5)\n",
    "\n",
    "averages.to_csv('../Datasets/AQI/2021_Avg_Aqi_Data_Cleaned.csv', index=False)"
   ]
  }
 ],
 "metadata": {
  "kernelspec": {
   "display_name": "Python 3 (ipykernel)",
   "language": "python",
   "name": "python3"
  },
  "language_info": {
   "codemirror_mode": {
    "name": "ipython",
    "version": 3
   },
   "file_extension": ".py",
   "mimetype": "text/x-python",
   "name": "python",
   "nbconvert_exporter": "python",
   "pygments_lexer": "ipython3",
   "version": "3.10.4"
  }
 },
 "nbformat": 4,
 "nbformat_minor": 5
}
