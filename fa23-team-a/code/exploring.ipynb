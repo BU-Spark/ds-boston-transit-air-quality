{
 "cells": [
  {
   "cell_type": "markdown",
   "metadata": {},
   "source": [
    "# Exploring Data\n",
    "\n",
    "Random code to examine datasets"
   ]
  },
  {
   "cell_type": "markdown",
   "metadata": {},
   "source": [
    "### Questions for Deliverable 1\n",
    "\n",
    "* How do areas with poor air quality compare to areas with better air quality based on different demographic characteristics, specifically:\n",
    "    * Race/ethnicity (ACS)?\n",
    "    * Area median income/ income\n",
    "    * Housing density \n",
    "    * Population density\n",
    "    * Social vulnerability \n",
    "* What is the relationship between health data and What are the trends in yearly change in air quality for Boston residents  by neighborhood, zip code.\n",
    "\n",
    "### General steps\n",
    "* Get the data from the APIs (in slack channel)\n",
    "* Explore data in the existing CSVs and the data secured through the APIs provided.\n",
    "* identify whch dataset(s) to use for each question\n",
    "* Analyse question specific data to answer the two base questions"
   ]
  }
 ],
 "metadata": {
  "kernelspec": {
   "display_name": "Python 3",
   "language": "python",
   "name": "python3"
  },
  "language_info": {
   "codemirror_mode": {
    "name": "ipython",
    "version": 3
   },
   "file_extension": ".py",
   "mimetype": "text/x-python",
   "name": "python",
   "nbconvert_exporter": "python",
   "pygments_lexer": "ipython3",
   "version": "3.9.6"
  },
  "orig_nbformat": 4
 },
 "nbformat": 4,
 "nbformat_minor": 2
}
