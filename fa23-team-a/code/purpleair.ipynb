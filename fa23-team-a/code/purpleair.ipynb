{
 "cells": [
  {
   "cell_type": "markdown",
   "metadata": {},
   "source": [
    "# Purple Air\n",
    "\n",
    "### response.json contains all the sensors in the purple air database, we filter it to get indexes of sensors in the Greater Boston Area"
   ]
  },
  {
   "cell_type": "code",
   "execution_count": 3,
   "metadata": {},
   "outputs": [],
   "source": [
    "import pandas as pd"
   ]
  },
  {
   "cell_type": "code",
   "execution_count": 6,
   "metadata": {},
   "outputs": [],
   "source": [
    "all_sensors = pd.read_json(\"/Users/dhruvchandwani/Downloads/response.json\")\n",
    "\n",
    "all_sensors.describe\n",
    "\n",
    "all_sensors[[\"sensor_index\", \"name\",\"latitude\", \"longitude\"]] = pd.DataFrame(all_sensors['data'].tolist(), index=all_sensors.index)\n",
    "\n",
    "all_sensors.head()\n",
    "\n",
    "boston_sensors = all_sensors.loc[(all_sensors[\"latitude\"]>=42.202941) & (all_sensors[\"latitude\"]<=42.475)\\\n",
    "      & (all_sensors[\"longitude\"]<=-70.909495) & (all_sensors[\"longitude\"]>=-71.271667)]\n",
    "\n",
    "boston_sensors.to_csv(\"boston_sensors_purpleair.csv\")"
   ]
  },
  {
   "cell_type": "code",
   "execution_count": null,
   "metadata": {},
   "outputs": [],
   "source": []
  }
 ],
 "metadata": {
  "kernelspec": {
   "display_name": "Python 3",
   "language": "python",
   "name": "python3"
  },
  "language_info": {
   "codemirror_mode": {
    "name": "ipython",
    "version": 3
   },
   "file_extension": ".py",
   "mimetype": "text/x-python",
   "name": "python",
   "nbconvert_exporter": "python",
   "pygments_lexer": "ipython3",
   "version": "3.9.6"
  },
  "orig_nbformat": 4
 },
 "nbformat": 4,
 "nbformat_minor": 2
}
