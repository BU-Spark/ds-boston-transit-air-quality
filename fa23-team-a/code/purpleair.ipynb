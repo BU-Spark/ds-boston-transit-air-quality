{
 "cells": [
  {
   "cell_type": "markdown",
   "metadata": {},
   "source": [
    "# Purple Air\n",
    "\n",
    "### Don't run this again\n",
    "\n",
    "- response.json contains all the sensors in the purple air database, we filter it to get indexes of sensors in the Greater Boston Area"
   ]
  },
  {
   "cell_type": "code",
   "execution_count": 21,
   "metadata": {},
   "outputs": [],
   "source": [
    "import pandas as pd\n",
    "import geopandas as gpd\n",
    "from geopy import distance"
   ]
  },
  {
   "cell_type": "code",
   "execution_count": 22,
   "metadata": {},
   "outputs": [],
   "source": [
    "# Run once to create boston sensors csv\n",
    "\n",
    "all_sensors = pd.read_json(\"/Users/dhruvchandwani/Downloads/response.json\")\n",
    "\n",
    "all_sensors.describe\n",
    "\n",
    "all_sensors[[\"sensor_index\", \"name\",\"latitude\", \"longitude\"]] = pd.DataFrame(all_sensors['data'].tolist(), index=all_sensors.index)\n",
    "\n",
    "all_sensors.head()\n",
    "\n",
    "boston_sensors = all_sensors.loc[(all_sensors[\"latitude\"]>=42.202941) & (all_sensors[\"latitude\"]<=42.475)\\\n",
    "      & (all_sensors[\"longitude\"]<=-70.909495) & (all_sensors[\"longitude\"]>=-71.271667)]\n",
    "\n",
    "boston_sensors.to_csv(\"boston_sensors_purpleair.csv\")"
   ]
  },
  {
   "cell_type": "code",
   "execution_count": 60,
   "metadata": {},
   "outputs": [
    {
     "name": "stderr",
     "output_type": "stream",
     "text": [
      "/var/folders/dr/5fwr6gys3_q2mlm3nwj706880000gn/T/ipykernel_71990/425769371.py:5: UserWarning: Geometry is in a geographic CRS. Results from 'centroid' are likely incorrect. Use 'GeoSeries.to_crs()' to re-project geometries to a projected CRS before this operation.\n",
      "\n",
      "  tes[\"longitude\"] = tes[\"geometry\"].centroid.x\n",
      "/var/folders/dr/5fwr6gys3_q2mlm3nwj706880000gn/T/ipykernel_71990/425769371.py:6: UserWarning: Geometry is in a geographic CRS. Results from 'centroid' are likely incorrect. Use 'GeoSeries.to_crs()' to re-project geometries to a projected CRS before this operation.\n",
      "\n",
      "  tes[\"latitude\"] = tes[\"geometry\"].centroid.y\n"
     ]
    },
    {
     "name": "stdout",
     "output_type": "stream",
     "text": [
      "0     8.8075\n",
      "1     8.2420\n",
      "2     7.7455\n",
      "3     8.6140\n",
      "4     7.6985\n",
      "5    19.4615\n",
      "6    12.1045\n",
      "Name: pm2.5_atm, dtype: float64\n",
      "7\n"
     ]
    }
   ],
   "source": [
    "# read Climate_Ready_Boston_Social_Vulnerability.geojson\n",
    "\n",
    "tes = gpd.read_file(\"../data/csv_files/Climate_Ready_Boston_Social_Vulnerability.geojson\")\n",
    "\n",
    "tes[\"longitude\"] = tes[\"geometry\"].centroid.x\n",
    "tes[\"latitude\"] = tes[\"geometry\"].centroid.y\n",
    "\n",
    "boston_dem = pd.DataFrame(tes)\n",
    "\n",
    "boston_sensors = pd.read_csv(\"../data/boston_sensors_purpleair.csv\")\n",
    "\n",
    "#filtering for sensors with available data\n",
    "boston_sensors = boston_sensors.loc[boston_sensors['sensor_index'].isin([3642, 26219, 28273, 29389, 34953, 37663, 39657])]\n",
    "\n",
    "sensor_data = pd.read_csv(\"../data/sensor_data.csv\").drop(columns=['time_stamp'])\n",
    "print(sensor_data[\"pm2.5_atm\"])\n",
    "\n",
    "# find closest sensor to all datapoints in the csv\n",
    "def find_closest_sensor(row, df):\n",
    "    min_distance = float('inf')\n",
    "    closest_sensor = None\n",
    "\n",
    "    for index, sensor_row in df.iterrows():\n",
    "        coord1 = (row['latitude'], row['longitude'])\n",
    "        coord2 = (sensor_row['latitude'], sensor_row['longitude'])\n",
    "        dist = distance.geodesic(coord1, coord2).miles\n",
    "\n",
    "        if dist < min_distance:\n",
    "            min_distance = dist\n",
    "            closest_sensor = sensor_row['sensor_index']\n",
    "\n",
    "    return closest_sensor\n",
    "\n",
    "def add_sensor_data(row, df, field):\n",
    "    temp = df.loc[df['sensor'] == row['closest_sensor']]\n",
    "    data = temp.iloc[0][field]\n",
    "    return data\n",
    "\n",
    "boston_dem['closest_sensor'] = boston_dem.apply(find_closest_sensor, args=(boston_sensors,), axis=1)\n",
    "boston_dem['pm2.5_atm'] = boston_dem.apply(add_sensor_data, args=(sensor_data, \"pm2.5_atm\",), axis=1)\n",
    "boston_dem['pm10_atm'] = boston_dem.apply(add_sensor_data, args=(sensor_data, \"pm10.0_atm\",), axis=1)\n",
    "\n",
    "sensors_required = set(boston_dem['closest_sensor'])\n",
    "\n",
    "print(len(boston_sensors))\n",
    "\n",
    "boston_dem.head()\n",
    "\n",
    "boston_dem.drop(columns=['geometry']).to_csv(\"boston_dem.csv\")"
   ]
  }
 ],
 "metadata": {
  "kernelspec": {
   "display_name": "Python 3",
   "language": "python",
   "name": "python3"
  },
  "language_info": {
   "codemirror_mode": {
    "name": "ipython",
    "version": 3
   },
   "file_extension": ".py",
   "mimetype": "text/x-python",
   "name": "python",
   "nbconvert_exporter": "python",
   "pygments_lexer": "ipython3",
   "version": "3.9.6"
  },
  "orig_nbformat": 4
 },
 "nbformat": 4,
 "nbformat_minor": 2
}
