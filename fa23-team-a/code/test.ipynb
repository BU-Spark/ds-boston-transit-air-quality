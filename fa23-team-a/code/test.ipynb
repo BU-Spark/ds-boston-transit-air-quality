{
 "cells": [
  {
   "cell_type": "markdown",
   "metadata": {},
   "source": [
    "# Exploring Data"
   ]
  },
  {
   "cell_type": "code",
   "execution_count": 6,
   "metadata": {},
   "outputs": [
    {
     "data": {
      "text/html": [
       "<div>\n",
       "<style scoped>\n",
       "    .dataframe tbody tr th:only-of-type {\n",
       "        vertical-align: middle;\n",
       "    }\n",
       "\n",
       "    .dataframe tbody tr th {\n",
       "        vertical-align: top;\n",
       "    }\n",
       "\n",
       "    .dataframe thead th {\n",
       "        text-align: right;\n",
       "    }\n",
       "</style>\n",
       "<table border=\"1\" class=\"dataframe\">\n",
       "  <thead>\n",
       "    <tr style=\"text-align: right;\">\n",
       "      <th></th>\n",
       "      <th>objectid</th>\n",
       "      <th>g250m_id</th>\n",
       "      <th>commtypid</th>\n",
       "      <th>commtype</th>\n",
       "      <th>nhwhi_10</th>\n",
       "      <th>nhaa_10</th>\n",
       "      <th>nhapi_10</th>\n",
       "      <th>lat_10</th>\n",
       "      <th>nhoth_10</th>\n",
       "      <th>ppi5</th>\n",
       "      <th>shape</th>\n",
       "    </tr>\n",
       "  </thead>\n",
       "  <tbody>\n",
       "    <tr>\n",
       "      <th>0</th>\n",
       "      <td>1</td>\n",
       "      <td>144054.0</td>\n",
       "      <td>3</td>\n",
       "      <td>Maturing Suburbs</td>\n",
       "      <td>26.88</td>\n",
       "      <td>0.37</td>\n",
       "      <td>3.03</td>\n",
       "      <td>0.37</td>\n",
       "      <td>1.04</td>\n",
       "      <td>2</td>\n",
       "      <td>3C00000005000000080010006A69000020000000011000...</td>\n",
       "    </tr>\n",
       "  </tbody>\n",
       "</table>\n",
       "</div>"
      ],
      "text/plain": [
       "   objectid  g250m_id  commtypid          commtype  nhwhi_10  nhaa_10  \\\n",
       "0         1  144054.0          3  Maturing Suburbs     26.88     0.37   \n",
       "\n",
       "   nhapi_10  lat_10  nhoth_10  ppi5  \\\n",
       "0      3.03    0.37      1.04     2   \n",
       "\n",
       "                                               shape  \n",
       "0  3C00000005000000080010006A69000020000000011000...  "
      ]
     },
     "execution_count": 6,
     "metadata": {},
     "output_type": "execute_result"
    }
   ],
   "source": [
    "import pandas as pd\n",
    "\n",
    "df_idk = pd.read_csv('../data/csv_files/Climate_Ready_Boston_Social_Vulnerability.csv')\n",
    "\n",
    "ppi = pd.read_csv('../data/csv_files/mapc.health_mapc_ppi_g250.csv')\n",
    "\n",
    "ppi.columns\n",
    "\n",
    "ppi.head(1)"
   ]
  }
 ],
 "metadata": {
  "kernelspec": {
   "display_name": "Python 3",
   "language": "python",
   "name": "python3"
  },
  "language_info": {
   "codemirror_mode": {
    "name": "ipython",
    "version": 3
   },
   "file_extension": ".py",
   "mimetype": "text/x-python",
   "name": "python",
   "nbconvert_exporter": "python",
   "pygments_lexer": "ipython3",
   "version": "3.9.6"
  },
  "orig_nbformat": 4
 },
 "nbformat": 4,
 "nbformat_minor": 2
}
